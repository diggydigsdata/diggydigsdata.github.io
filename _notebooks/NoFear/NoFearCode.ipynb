{
 "cells": [
  {
   "cell_type": "code",
   "execution_count": 14,
   "id": "3aa05a66",
   "metadata": {},
   "outputs": [],
   "source": [
    "import numpy as np\n",
    "import matplotlib.pyplot as plt\n",
    "import pandas as pd"
   ]
  },
  {
   "cell_type": "code",
   "execution_count": 15,
   "id": "5ca2a0ea",
   "metadata": {},
   "outputs": [],
   "source": [
    "df = pd.read_csv(\"NoFearAtThatAge.csv\", encoding=\"latin1\")"
   ]
  },
  {
   "cell_type": "code",
   "execution_count": 16,
   "id": "33d0741f",
   "metadata": {},
   "outputs": [
    {
     "data": {
      "text/html": [
       "<div>\n",
       "<style scoped>\n",
       "    .dataframe tbody tr th:only-of-type {\n",
       "        vertical-align: middle;\n",
       "    }\n",
       "\n",
       "    .dataframe tbody tr th {\n",
       "        vertical-align: top;\n",
       "    }\n",
       "\n",
       "    .dataframe thead th {\n",
       "        text-align: right;\n",
       "    }\n",
       "</style>\n",
       "<table border=\"1\" class=\"dataframe\">\n",
       "  <thead>\n",
       "    <tr style=\"text-align: right;\">\n",
       "      <th></th>\n",
       "      <th>Player</th>\n",
       "      <th>Season</th>\n",
       "      <th>Age</th>\n",
       "      <th>Nation</th>\n",
       "      <th>Team</th>\n",
       "      <th>Comp</th>\n",
       "      <th>Pos</th>\n",
       "      <th>PKatt</th>\n",
       "      <th>PK</th>\n",
       "      <th>PKm</th>\n",
       "      <th>Conversion%</th>\n",
       "      <th>conversion_rate</th>\n",
       "    </tr>\n",
       "  </thead>\n",
       "  <tbody>\n",
       "    <tr>\n",
       "      <th>0</th>\n",
       "      <td>Cristiano Ronaldo</td>\n",
       "      <td>2011-2012</td>\n",
       "      <td>26.0</td>\n",
       "      <td>pt POR</td>\n",
       "      <td>Real Madrid</td>\n",
       "      <td>La Liga</td>\n",
       "      <td>FW,MF</td>\n",
       "      <td>13.0</td>\n",
       "      <td>12.0</td>\n",
       "      <td>1.0</td>\n",
       "      <td>92.31</td>\n",
       "      <td>0.923077</td>\n",
       "    </tr>\n",
       "    <tr>\n",
       "      <th>1</th>\n",
       "      <td>Salva Ballesta</td>\n",
       "      <td>1999-2000</td>\n",
       "      <td>24.0</td>\n",
       "      <td>es ESP</td>\n",
       "      <td>Racing Sant</td>\n",
       "      <td>La Liga</td>\n",
       "      <td>FW</td>\n",
       "      <td>12.0</td>\n",
       "      <td>11.0</td>\n",
       "      <td>1.0</td>\n",
       "      <td>91.67</td>\n",
       "      <td>0.916667</td>\n",
       "    </tr>\n",
       "    <tr>\n",
       "      <th>2</th>\n",
       "      <td>Andrew Johnson</td>\n",
       "      <td>2004-2005</td>\n",
       "      <td>23.0</td>\n",
       "      <td>eng ENG</td>\n",
       "      <td>Crystal Palace</td>\n",
       "      <td>EPL</td>\n",
       "      <td>FW</td>\n",
       "      <td>12.0</td>\n",
       "      <td>10.0</td>\n",
       "      <td>2.0</td>\n",
       "      <td>83.33</td>\n",
       "      <td>0.833333</td>\n",
       "    </tr>\n",
       "    <tr>\n",
       "      <th>3</th>\n",
       "      <td>Alan Shearer</td>\n",
       "      <td>1994-1995</td>\n",
       "      <td>23.0</td>\n",
       "      <td>eng ENG</td>\n",
       "      <td>Blackburn</td>\n",
       "      <td>EPL</td>\n",
       "      <td>FW</td>\n",
       "      <td>12.0</td>\n",
       "      <td>10.0</td>\n",
       "      <td>2.0</td>\n",
       "      <td>83.33</td>\n",
       "      <td>0.833333</td>\n",
       "    </tr>\n",
       "    <tr>\n",
       "      <th>4</th>\n",
       "      <td>Steven Gerrard</td>\n",
       "      <td>2013-2014</td>\n",
       "      <td>33.0</td>\n",
       "      <td>eng ENG</td>\n",
       "      <td>Liverpool</td>\n",
       "      <td>EPL</td>\n",
       "      <td>MF</td>\n",
       "      <td>11.0</td>\n",
       "      <td>10.0</td>\n",
       "      <td>1.0</td>\n",
       "      <td>90.91</td>\n",
       "      <td>0.909091</td>\n",
       "    </tr>\n",
       "  </tbody>\n",
       "</table>\n",
       "</div>"
      ],
      "text/plain": [
       "              Player     Season   Age   Nation            Team     Comp  \\\n",
       "0  Cristiano Ronaldo  2011-2012  26.0   pt POR     Real Madrid  La Liga   \n",
       "1     Salva Ballesta  1999-2000  24.0   es ESP     Racing Sant  La Liga   \n",
       "2     Andrew Johnson  2004-2005  23.0  eng ENG  Crystal Palace      EPL   \n",
       "3       Alan Shearer  1994-1995  23.0  eng ENG       Blackburn      EPL   \n",
       "4     Steven Gerrard  2013-2014  33.0  eng ENG       Liverpool      EPL   \n",
       "\n",
       "     Pos  PKatt    PK  PKm  Conversion%  conversion_rate  \n",
       "0  FW,MF   13.0  12.0  1.0        92.31         0.923077  \n",
       "1     FW   12.0  11.0  1.0        91.67         0.916667  \n",
       "2     FW   12.0  10.0  2.0        83.33         0.833333  \n",
       "3     FW   12.0  10.0  2.0        83.33         0.833333  \n",
       "4     MF   11.0  10.0  1.0        90.91         0.909091  "
      ]
     },
     "execution_count": 16,
     "metadata": {},
     "output_type": "execute_result"
    }
   ],
   "source": [
    "df.head()"
   ]
  },
  {
   "cell_type": "markdown",
   "id": "6168c39d",
   "metadata": {},
   "source": [
    "# Conversion Rates\n",
    "When it comes to conversion rates, all three leagues are roughly equivalent:"
   ]
  },
  {
   "cell_type": "code",
   "execution_count": 17,
   "id": "7842e6f1",
   "metadata": {},
   "outputs": [
    {
     "name": "stdout",
     "output_type": "stream",
     "text": [
      "['La Liga' 'EPL' 'CL' nan]\n"
     ]
    }
   ],
   "source": [
    "# Rename 'Conversion %' to 'Conversion%' first\n",
    "df.rename(columns={'Conversion %': 'Conversion%', 'PKatt2': 'PKatt'}, inplace=True)\n",
    "\n",
    "# Replace all occurrences of \"Premier League\" with \"EPL\" in the 'Comp' column\n",
    "df['Comp'] = df['Comp'].replace({'eng Premier League': 'EPL',\n",
    "                                 'Champions League': 'CL'})\n",
    "\n",
    "# Verify the changes\n",
    "print(df['Comp'].unique())\n",
    "\n",
    "# Remove the '%' symbol and convert 'Conversion%' to numeric\n",
    "if 'Conversion%' in df.columns:\n",
    "    df['Conversion%'] = pd.to_numeric(\n",
    "        df['Conversion%'].astype(str).str.replace('%', '', regex=False), errors='coerce'\n",
    "    )\n",
    "else:\n",
    "    print(\"Column 'Conversion%' not found in the DataFrame.\")\n",
    "\n",
    "# Save the updated DataFrame back to the CSV file\n",
    "df.to_csv(\"NoFearAtThatAge.csv\", index=False, encoding=\"latin1\")"
   ]
  },
  {
   "cell_type": "code",
   "execution_count": 18,
   "id": "a1109956",
   "metadata": {},
   "outputs": [
    {
     "name": "stdout",
     "output_type": "stream",
     "text": [
      "         Conversion%\n",
      "Comp                \n",
      "CL         75.479067\n",
      "EPL        75.168885\n",
      "La Liga    72.304647\n"
     ]
    }
   ],
   "source": [
    "CompetitionConversionRate = df.pivot_table(index='Comp', values='Conversion%', aggfunc='mean')\n",
    "print(CompetitionConversionRate)"
   ]
  },
  {
   "cell_type": "code",
   "execution_count": 19,
   "id": "c6923b9c",
   "metadata": {},
   "outputs": [
    {
     "name": "stdout",
     "output_type": "stream",
     "text": [
      "3330\n"
     ]
    }
   ],
   "source": [
    "print(len(df))"
   ]
  },
  {
   "cell_type": "code",
   "execution_count": 20,
   "id": "2aed213c",
   "metadata": {},
   "outputs": [
    {
     "name": "stdout",
     "output_type": "stream",
     "text": [
      "Player              object\n",
      "Season              object\n",
      "Age                float64\n",
      "Nation              object\n",
      "Team                object\n",
      "Comp                object\n",
      "Pos                 object\n",
      "PKatt              float64\n",
      "PK                 float64\n",
      "PKm                float64\n",
      "Conversion%        float64\n",
      "conversion_rate    float64\n",
      "dtype: object\n"
     ]
    }
   ],
   "source": [
    "df['PK'] = pd.to_numeric(df['PK'], errors='coerce')\n",
    "print(df.dtypes)"
   ]
  },
  {
   "cell_type": "code",
   "execution_count": 21,
   "id": "0b0dd46c",
   "metadata": {},
   "outputs": [
    {
     "name": "stdout",
     "output_type": "stream",
     "text": [
      "          PKatt      PK    PKm  conversion_rate\n",
      "Comp                                           \n",
      "CL        925.0   714.0  211.0        77.189189\n",
      "EPL      2892.0  2280.0  612.0        78.838174\n",
      "La Liga  2956.0  2288.0  668.0        77.401894\n"
     ]
    }
   ],
   "source": [
    "# Group by 'Comp' and calculate sums\n",
    "grouped = df.groupby('Comp')[['PKatt', 'PK', 'PKm']].sum()\n",
    "grouped['conversion_rate'] = (grouped['PK'] / grouped['PKatt']) * 100\n",
    "print(grouped)"
   ]
  },
  {
   "cell_type": "code",
   "execution_count": 22,
   "id": "5be102fd",
   "metadata": {},
   "outputs": [
    {
     "data": {
      "image/png": "[encoded data removed]",
      "text/plain": [
       "<Figure size 1000x600 with 1 Axes>"
      ]
     },
     "metadata": {},
     "output_type": "display_data"
    }
   ],
   "source": [
    "# Group by 'Comp' and calculate sums\n",
    "grouped = df.groupby('Comp')[['PKatt', 'PK', 'PKm']].sum()\n",
    "\n",
    "# Calculate the conversion rate\n",
    "grouped['conversion_rate'] = (grouped['PK'] / grouped['PKatt']) * 100\n",
    "\n",
    "# Normalize the counts so their stacked heights represent the conversion rate\n",
    "grouped['Scored'] = (grouped['PK'] / grouped['PKatt']) * grouped['conversion_rate']\n",
    "grouped['Missed'] = (grouped['PKm'] / grouped['PKatt']) * grouped['conversion_rate']\n",
    "\n",
    "# Plot the stacked bar chart\n",
    "grouped[['Scored', 'Missed']].plot(\n",
    "    kind='bar', stacked=True, figsize=(10, 6), color=['skyblue', 'orange', 'green']\n",
    ")\n",
    "\n",
    "# Add labels and title\n",
    "plt.title('Conversion Rate by Competition', fontsize=16)\n",
    "plt.xlabel('Competition', fontsize=14)\n",
    "plt.ylabel('Conversion Rate (%)', fontsize=14)\n",
    "plt.xticks(rotation=45, fontsize=12)\n",
    "plt.legend(title='Metrics', fontsize=12)\n",
    "plt.grid(axis='y', linestyle='--', alpha=0.7)\n",
    "\n",
    "# Set the y-axis scale\n",
    "plt.ylim(0, 100)\n",
    "\n",
    "# Show the plot\n",
    "plt.tight_layout()\n",
    "plt.show()"
   ]
  }
 ],
 "metadata": {
  "kernelspec": {
   "display_name": "base",
   "language": "python",
   "name": "python3"
  },
  "language_info": {
   "codemirror_mode": {
    "name": "ipython",
    "version": 3
   },
   "file_extension": ".py",
   "mimetype": "text/x-python",
   "name": "python",
   "nbconvert_exporter": "python",
   "pygments_lexer": "ipython3",
   "version": "3.12.7"
  }
 },
 "nbformat": 4,
 "nbformat_minor": 5
}
